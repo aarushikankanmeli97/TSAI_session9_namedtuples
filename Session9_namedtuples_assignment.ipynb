{
 "cells": [
  {
   "cell_type": "markdown",
   "metadata": {},
   "source": [
    "## Using Namedtuples to perform the following:\n",
    "- Create 10000 fake profiles using Faker library to calculate,\n",
    "    - _largest blood type_ , _mean current location_ , _oldest person age_ and _average age_\n",
    "- Repeat above procedure using dictionary and then compare teh performance time of namedtuple and dictionary to see which one gives faster performance.\n",
    "- Create 100 fake companies using Faker library to calculate,\n",
    "    - _opening price_ , _highest price of the day_ , _closing value of the day_ "
   ]
  },
  {
   "cell_type": "code",
   "execution_count": 1,
   "metadata": {},
   "outputs": [],
   "source": [
    "from faker import Faker\n",
    "import statistics\n",
    "from collections import namedtuple\n",
    "import datetime\n",
    "from datetime import date\n",
    "import numpy as np\n",
    "import random\n",
    "\n",
    "\n",
    "fake = Faker()"
   ]
  },
  {
   "cell_type": "markdown",
   "metadata": {},
   "source": [
    "### 1. Functions for 10000 random profiles"
   ]
  },
  {
   "cell_type": "code",
   "execution_count": 2,
   "metadata": {},
   "outputs": [],
   "source": [
    "def get_fake_profile(num_profiles):\n",
    "    '''\n",
    "    This function helps generate random profiles using faker library based on the \n",
    "    num input given.\n",
    "    '''\n",
    "    \n",
    "    prof_list = []\n",
    "    Profile = namedtuple('Profile',['blood_type', 'current_location', 'DOB'])\n",
    "    for i in range(num_profiles):\n",
    "        profiles = fake.profile()\n",
    "        prof = Profile(profiles['blood_group'], profiles['current_location'], profiles['birthdate'])\n",
    "        prof_list.append(prof)\n",
    "        \n",
    "    return prof_list"
   ]
  },
  {
   "cell_type": "code",
   "execution_count": 3,
   "metadata": {},
   "outputs": [],
   "source": [
    "def calculateAge(birthDate): \n",
    "    '''\n",
    "    This function helps calculate the age of a person with Date of Birth as input \n",
    "    parameter.\n",
    "    '''\n",
    "    today = date.today() \n",
    "    age = today.year - birthDate.year - ((today.month, today.day) < (birthDate.month, birthDate.day)) \n",
    "    return age "
   ]
  },
  {
   "cell_type": "code",
   "execution_count": 4,
   "metadata": {},
   "outputs": [],
   "source": [
    "def calculate_mean_current_location(name_tuple_list):\n",
    "    '''\n",
    "    This function returns the mean of current location (x and y coordintes).\n",
    "    '''\n",
    "    lan = []\n",
    "    lon = []\n",
    "    for name in name_tuple_list:\n",
    "        lan.append(name.current_location)\n",
    "        lon.append(name.current_location)\n",
    "    return np.mean(lan),np.mean(lon)"
   ]
  },
  {
   "cell_type": "code",
   "execution_count": 5,
   "metadata": {},
   "outputs": [],
   "source": [
    "def cal_named_tuple(population):\n",
    "    '''\n",
    "    This function calculates and returns the largest blood type, mean current location,\n",
    "    oldest person age, average age and time taken for calculation using namedtuple.\n",
    "    '''\n",
    "    t0 = datetime.datetime.now()\n",
    "    named_tuple_list = get_fake_profile(population)\n",
    "    lan = []\n",
    "    lon = []\n",
    "    age = []\n",
    "    blood_group = []\n",
    "    for name in named_tuple_list:\n",
    "        lan.append(name.current_location[0])\n",
    "        lon.append(name.current_location[1])\n",
    "        age.append(calculateAge(name.DOB))\n",
    "        blood_group.append(name.blood_type)\n",
    "    try:\n",
    "        largest_blood_type = statistics.mode(blood_group)\n",
    "    except:\n",
    "        largest_blood_type = statistics.multimode(blood_group)\n",
    "    mean_location = (np.mean(lan),np.mean(lon))\n",
    "    maximum_age = np.max(age)\n",
    "    average_age = np.mean(age)\n",
    "    result = largest_blood_type,mean_location,maximum_age,average_age\n",
    "    t1 = datetime.datetime.now()\n",
    "    time_elapsed = (t1-t0).total_seconds()\n",
    "    return result , time_elapsed"
   ]
  },
  {
   "cell_type": "code",
   "execution_count": 6,
   "metadata": {},
   "outputs": [],
   "source": [
    "def get_dict_list(population) :\n",
    "    ''' \n",
    "    This function gives random profiles using using Faker library for to create \n",
    "    dictionary.\n",
    "    '''\n",
    "    dict_list = []\n",
    "    for i in range(population):\n",
    "        profile =  fake.profile()\n",
    "        d = {'name':profile['name'],\"blood_type\":profile['blood_group'],\"current_location\":profile['current_location'],\n",
    "            \"DOB\": profile['birthdate']}\n",
    "        dict_list.append(d)\n",
    "    return dict_list"
   ]
  },
  {
   "cell_type": "code",
   "execution_count": 7,
   "metadata": {},
   "outputs": [],
   "source": [
    "def cal_dict(population):\n",
    "    '''\n",
    "    This function calculates and returns the\n",
    "    largest blood type, mean-current_location,\n",
    "    oldest_person_age ,average age and time taken for calculation using Dictionary.\n",
    "    '''\n",
    "    t2 = datetime.datetime.now()\n",
    "    dict_list = get_dict_list(population)\n",
    "    lan = [] \n",
    "    lon = []\n",
    "    age = []\n",
    "    blood_group = []\n",
    "    for name in dict_list:\n",
    "        lan.append(name['current_location'][0])\n",
    "        lon.append(name['current_location'][1])\n",
    "        age.append(calculateAge(name['DOB']))\n",
    "        blood_group.append(name['blood_type'])\n",
    "    try:\n",
    "        largest_blood_type = statistics.mode(blood_group)\n",
    "    except:\n",
    "        largest_blood_type = statistics.multimode(blood_group)\n",
    "    mean_location = (np.mean(lan),np.mean(lon))\n",
    "    maximum_age = np.max(age)\n",
    "    average_age = np.mean(age)\n",
    "    result = largest_blood_type,mean_location,maximum_age,average_age\n",
    "#     result = statistics.mode(blood_group), (np.mean(lan),np.mean(lon)),np.max(age),np.mean(age)\n",
    "    t3 = datetime.datetime.now()\n",
    "    # print(f'Time taken for claculation{t3-t2}')\n",
    "    time_elapsed = (t3-t2).total_seconds()\n",
    "    return result,time_elapsed"
   ]
  },
  {
   "cell_type": "markdown",
   "metadata": {},
   "source": [
    "### 2. Functions to get stock market details of 100 random companies"
   ]
  },
  {
   "cell_type": "code",
   "execution_count": 8,
   "metadata": {},
   "outputs": [],
   "source": [
    "def get_comp_symbol(com_name,i):\n",
    "    '''\n",
    "    This function returns the symbol for given company name.\n",
    "    '''\n",
    "    symbol = str(i)\n",
    "    for c in com_name:\n",
    "        symbol += '_' + c[0]\n",
    "    return symbol\n",
    "\n",
    "def get_random_weights():\n",
    "    '''\n",
    "    This function returns random weights of given 100 companies.\n",
    "    '''\n",
    "    return random.uniform(0,100) \n",
    "\n",
    "def get_weight(market_capital,total_capital):\n",
    "    \"\"\"\n",
    "    This function return weights calculated based on the market capital\n",
    "    \"\"\"\n",
    "    weight = (market_capital/total_capital)*100\n",
    "    return weight\n",
    "\n",
    "def get_weights_list(market_capital_list ,market_sum):\n",
    "    weight_list = []\n",
    "    for li in market_capital_list:\n",
    "        weight = get_weight(market_capital = li,total_capital = market_sum)\n",
    "        weight_list.append(weight)\n",
    "    return weight_list\n",
    "\n",
    "def get_random_market_capital():\n",
    "    \"\"\"\n",
    "    This function return random market_capital in range of 500,10000.\n",
    "    \"\"\"\n",
    "    return random.uniform(500,10000) \n",
    "\n",
    "def get_market_sum(market_capital_list):\n",
    "    \"\"\"\n",
    "    This function calculate the Total market capital\n",
    "    \"\"\"\n",
    "    total = sum(market_capital_list)\n",
    "    return total\n",
    "\n",
    "def update_weight(comp_list , weight_list):\n",
    "    \"\"\"\n",
    "    This function update the weight in the named tuple with the calculated weights\n",
    "    \"\"\"\n",
    "    for c,w in zip(comp_list , weight_list):\n",
    "        c._replace(weight = w)\n",
    "    return  comp_list\n",
    "\n",
    "def get_random_open_value():\n",
    "    '''\n",
    "    This function return the opening value of a stock.\n",
    "    '''\n",
    "    return round((random.uniform(300,1000)),2)\n",
    "\n",
    "def get_high_value(open_value):\n",
    "    '''\n",
    "    This function calculates the high value of a stock.\n",
    "    '''\n",
    "    return round(open_value*(random.uniform(1,3.0)),3)\n",
    "\n",
    "def get_close_value(high_value):\n",
    "    '''\n",
    "    This is function calculates the closing vlue of a stock.\n",
    "    '''\n",
    "    return round(high_value*(random.uniform(0.2,1.2)),3)"
   ]
  },
  {
   "cell_type": "code",
   "execution_count": 9,
   "metadata": {},
   "outputs": [],
   "source": [
    "def create_companies_list(no_of_companies):\n",
    "    '''\n",
    "    This function creates a  list of fake companies with following values,\n",
    "    company name, stock symbol for particular company, opening value, high value, closing value and weight.\n",
    "    '''\n",
    "    company = namedtuple('company',['com_name', \"symbol\", 'open_value', 'high_value', 'close_value','weight','market_capital'])\n",
    "    companies_list = []\n",
    "    weight_list = []\n",
    "    for i in range(no_of_companies):\n",
    "        com_name = fake.company()\n",
    "        symbol = get_comp_symbol(com_name,i)\n",
    "        weight = get_random_weights()\n",
    "        market_capital = get_random_market_capital()\n",
    "        open_value = get_random_open_value()\n",
    "        high_value = get_high_value(open_value)\n",
    "        close_value = get_close_value(high_value)\n",
    "        companies_list.append(company(com_name,symbol, open_value, high_value, close_value ,weight,market_capital))\n",
    "        weight_list.append(weight)\n",
    "    return companies_list,weight_list\n"
   ]
  },
  {
   "cell_type": "code",
   "execution_count": 10,
   "metadata": {},
   "outputs": [],
   "source": [
    "def get_stockmarket_points(companies_list,weight_list):\n",
    "    '''\n",
    "    This function calculates the stock markets opening point , highest point , closing point.\n",
    "    The points are calculated by multiplying the values with the normalized weights and summing up all the values.\n",
    "    '''\n",
    "    open_points = []\n",
    "    high_points = []\n",
    "    close_points = []\n",
    "    sum_weight = sum(weight_list)\n",
    "    for com in companies_list:\n",
    "        open_point = com.open_value * com.weight\n",
    "        high_point = com.high_value * com.weight\n",
    "        close_point = com.close_value * com.weight\n",
    "        open_points.append(open_point)\n",
    "        high_points.append(high_point)\n",
    "        close_points.append(close_point)\n",
    "    return round(sum(open_points),2),round(sum(high_points),2),round(sum(close_points),2)"
   ]
  },
  {
   "cell_type": "markdown",
   "metadata": {},
   "source": [
    "## Population data"
   ]
  },
  {
   "cell_type": "code",
   "execution_count": 11,
   "metadata": {},
   "outputs": [],
   "source": [
    "#Generating the fake data for 10000 population randomly\n",
    "population_data_named_tuple = get_fake_profile(10000)"
   ]
  },
  {
   "cell_type": "code",
   "execution_count": 12,
   "metadata": {},
   "outputs": [
    {
     "name": "stdout",
     "output_type": "stream",
     "text": [
      "Number of profiles in population data : 10000\n"
     ]
    }
   ],
   "source": [
    "print(f'Number of profiles in population data : {len(population_data_named_tuple)}')"
   ]
  },
  {
   "cell_type": "code",
   "execution_count": 13,
   "metadata": {},
   "outputs": [
    {
     "name": "stdout",
     "output_type": "stream",
     "text": [
      "Profile Details:\n",
      "Profile(blood_type='B+', current_location=(Decimal('-77.8639735'), Decimal('11.074137')), DOB=datetime.date(1986, 2, 9))\n"
     ]
    }
   ],
   "source": [
    "print(\"Profile Details:\")\n",
    "print(population_data_named_tuple[0])"
   ]
  },
  {
   "cell_type": "code",
   "execution_count": 14,
   "metadata": {},
   "outputs": [],
   "source": [
    "result , time_elapsed = cal_named_tuple(population = 10000)"
   ]
  },
  {
   "cell_type": "code",
   "execution_count": 15,
   "metadata": {},
   "outputs": [
    {
     "name": "stdout",
     "output_type": "stream",
     "text": [
      "\n",
      "      Calculated using named tuples :\n",
      "      largest_blood_type : A- group,\n",
      "      mean_location : (Decimal('0.13579134085'), Decimal('0.2040516813')),\n",
      "      mean_location : (Decimal('0.13579134085'), Decimal('0.2040516813')),\n",
      "      average_age : 57.6992 years,\n",
      "      time_elapsed : 16.094506 seconds \n"
     ]
    }
   ],
   "source": [
    "#Unpacking the values obtained after calculating the parameters using namedtuple.\n",
    "largest_blood_type,mean_location,maximum_age,average_age = result  \n",
    "print(f\"\"\"\n",
    "      Calculated using named tuples :\n",
    "      largest_blood_type : {largest_blood_type} group,\n",
    "      mean_location : {mean_location},\n",
    "      mean_location : {mean_location},\n",
    "      average_age : {average_age} years,\n",
    "      time_elapsed : {time_elapsed} seconds \"\"\")"
   ]
  },
  {
   "cell_type": "code",
   "execution_count": 16,
   "metadata": {},
   "outputs": [],
   "source": [
    "#Creating List of Dictionaries\n",
    "population_data_dict = get_dict_list(population=1000)"
   ]
  },
  {
   "cell_type": "code",
   "execution_count": 17,
   "metadata": {},
   "outputs": [
    {
     "name": "stdout",
     "output_type": "stream",
     "text": [
      "Number of profiles in the dictionary list : 1000\n",
      "Dictionary data : {'name': 'Kimberly Sharp', 'blood_type': 'A-', 'current_location': (Decimal('47.714667'), Decimal('-125.356714')), 'DOB': datetime.date(1976, 3, 18)}\n"
     ]
    }
   ],
   "source": [
    "print(f\"Number of profiles in the dictionary list : {len(population_data_dict)}\")\n",
    "print(f\"Dictionary data : {population_data_dict[0]}\")"
   ]
  },
  {
   "cell_type": "code",
   "execution_count": 18,
   "metadata": {},
   "outputs": [],
   "source": [
    "result , time_elapsed = cal_dict(population = 10000)"
   ]
  },
  {
   "cell_type": "code",
   "execution_count": 19,
   "metadata": {},
   "outputs": [
    {
     "name": "stdout",
     "output_type": "stream",
     "text": [
      "\n",
      "      Calculated using dictionaries :\n",
      "      largest_blood_type : O- group,\n",
      "      mean_location : (Decimal('-0.0533852322'), Decimal('-0.3850284409')),\n",
      "      mean_location : (Decimal('-0.0533852322'), Decimal('-0.3850284409')),\n",
      "      average_age : 57.7033 years,\n",
      "      time_elapsed : 16.385696 seconds \n"
     ]
    }
   ],
   "source": [
    "#Unpacking the values obtained after calculating the parameters using dictionary.\n",
    "largest_blood_type,mean_location,maximum_age,average_age = result\n",
    "print(f\"\"\"\n",
    "      Calculated using dictionaries :\n",
    "      largest_blood_type : {largest_blood_type} group,\n",
    "      mean_location : {mean_location},\n",
    "      mean_location : {mean_location},\n",
    "      average_age : {average_age} years,\n",
    "      time_elapsed : {time_elapsed} seconds \"\"\")"
   ]
  },
  {
   "cell_type": "markdown",
   "metadata": {},
   "source": [
    "## Stocks data"
   ]
  },
  {
   "cell_type": "code",
   "execution_count": 20,
   "metadata": {},
   "outputs": [],
   "source": [
    "#Generating the fake list of 100 companies.\n",
    "companies_list,weight_list = create_companies_list(no_of_companies = 100)"
   ]
  },
  {
   "cell_type": "code",
   "execution_count": 21,
   "metadata": {},
   "outputs": [
    {
     "name": "stdout",
     "output_type": "stream",
     "text": [
      "Number of company profiles : 100\n"
     ]
    }
   ],
   "source": [
    "print(f\"Number of company profiles : {len(companies_list)}\" )"
   ]
  },
  {
   "cell_type": "code",
   "execution_count": 22,
   "metadata": {},
   "outputs": [
    {
     "name": "stdout",
     "output_type": "stream",
     "text": [
      "Company profile :\n",
      "[company(com_name='Moore Inc', symbol='1_M_o_o_r_e_ _I_n_c', open_value=470.56, high_value=727.317, close_value=649.217, weight=52.752664967759934, market_capital=9377.388135602157), company(com_name='Smith PLC', symbol='2_S_m_i_t_h_ _P_L_C', open_value=839.9, high_value=1897.214, close_value=1258.129, weight=94.71128445354559, market_capital=5505.610514796225), company(com_name='Brown PLC', symbol='3_B_r_o_w_n_ _P_L_C', open_value=823.47, high_value=1712.912, close_value=402.703, weight=95.50307709479439, market_capital=9605.318685099373), company(com_name='Guerrero-Gregory', symbol='4_G_u_e_r_r_e_r_o_-_G_r_e_g_o_r_y', open_value=909.91, high_value=1833.439, close_value=904.976, weight=62.60432647029138, market_capital=6641.006677318576)]\n"
     ]
    }
   ],
   "source": [
    "print(\"Company profile :\" )\n",
    "print(companies_list[1:5])"
   ]
  },
  {
   "cell_type": "code",
   "execution_count": 23,
   "metadata": {},
   "outputs": [],
   "source": [
    "market_sum  = get_market_sum(weight_list)"
   ]
  },
  {
   "cell_type": "code",
   "execution_count": 24,
   "metadata": {},
   "outputs": [],
   "source": [
    "weight_list = get_weights_list(weight_list ,market_sum)\n",
    "\n",
    "companies_list = update_weight(comp_list = companies_list , weight_list = weight_list)"
   ]
  },
  {
   "cell_type": "code",
   "execution_count": 25,
   "metadata": {},
   "outputs": [
    {
     "data": {
      "text/plain": [
       "100.0"
      ]
     },
     "execution_count": 25,
     "metadata": {},
     "output_type": "execute_result"
    }
   ],
   "source": [
    "# Sum of the weights should be 100(approx)\n",
    "sum(weight_list)"
   ]
  },
  {
   "cell_type": "code",
   "execution_count": 26,
   "metadata": {},
   "outputs": [],
   "source": [
    "value = get_stockmarket_points(companies_list,weight_list)"
   ]
  },
  {
   "cell_type": "code",
   "execution_count": 27,
   "metadata": {},
   "outputs": [
    {
     "name": "stdout",
     "output_type": "stream",
     "text": [
      "\n",
      "      Stock Market details\n",
      "      Opening value of stock : 3259520.8,\n",
      "      Highest value during the day : 6486750.77,\n",
      "      Closing value of stock : 4949980.95\n"
     ]
    }
   ],
   "source": [
    "#Unpacking the opening value, highest value and the closing value.\n",
    "open_value, high_value, closing_value = value\n",
    "print(f\"\"\"\n",
    "      Stock Market details\n",
    "      Opening value of stock : {open_value},\n",
    "      Highest value during the day : {high_value},\n",
    "      Closing value of stock : {closing_value}\"\"\")"
   ]
  },
  {
   "cell_type": "code",
   "execution_count": null,
   "metadata": {},
   "outputs": [],
   "source": []
  },
  {
   "cell_type": "code",
   "execution_count": null,
   "metadata": {},
   "outputs": [],
   "source": []
  }
 ],
 "metadata": {
  "kernelspec": {
   "display_name": "Python 3",
   "language": "python",
   "name": "python3"
  },
  "language_info": {
   "codemirror_mode": {
    "name": "ipython",
    "version": 3
   },
   "file_extension": ".py",
   "mimetype": "text/x-python",
   "name": "python",
   "nbconvert_exporter": "python",
   "pygments_lexer": "ipython3",
   "version": "3.6.9"
  }
 },
 "nbformat": 4,
 "nbformat_minor": 2
}
